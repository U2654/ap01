{
 "cells": [
  {
   "cell_type": "markdown",
   "metadata": {},
   "source": [
    "## Introduction \n",
    "[Kaggle](https://www.kaggle.com) offers dataset under different licences. The [Indoor Temp Over an Oven and Cooktop](https://www.kaggle.com/datasets/rdickenson/cooktoptemp?select=temp_humidity_control_2018-02-16--2018-03-06.csv) is CC0: Public Domain. You can download a dataset in Python using kagglehub. To install kagglehub, do the following (need only to be run once at all):"
   ]
  },
  {
   "cell_type": "code",
   "execution_count": null,
   "metadata": {
    "vscode": {
     "languageId": "shellscript"
    }
   },
   "outputs": [],
   "source": [
    "pip install kagglehub"
   ]
  },
  {
   "cell_type": "markdown",
   "metadata": {},
   "source": [
    "There are several packages useful for data analysis in Python: [pandas](https://pandas.pydata.org), [numpy](https://numpy.org). For visualization, [matplotlib](https://matplotlib.org), [seaborn](https://seaborn.pydata.org) or [plotly](https://plotly.com/python/) (requiring nbformat) are quite helpful. Here, plotly is used. Again, this is a system installation and need to be run only once. "
   ]
  },
  {
   "cell_type": "code",
   "execution_count": null,
   "metadata": {
    "vscode": {
     "languageId": "shellscript"
    }
   },
   "outputs": [],
   "source": [
    "pip install pandas numpy plotly nbformat"
   ]
  },
  {
   "cell_type": "markdown",
   "metadata": {},
   "source": [
    "The following code summarizes the used package. It may be executed only when not all the following steps are done. "
   ]
  },
  {
   "cell_type": "code",
   "execution_count": null,
   "metadata": {
    "vscode": {
     "languageId": "shellscript"
    }
   },
   "outputs": [],
   "source": [
    "import kagglehub\n",
    "import pandas as pandas\n",
    "import plotly.express as px\n",
    "import plotly.graph_objects as pgo\n",
    "import datetime\n"
   ]
  },
  {
   "cell_type": "markdown",
   "metadata": {},
   "source": [
    "Now download the data set. You will get a path to the dataset on your computer as return."
   ]
  },
  {
   "cell_type": "code",
   "execution_count": null,
   "metadata": {},
   "outputs": [],
   "source": [
    "import kagglehub\n",
    "\n",
    "# Download latest version\n",
    "path = kagglehub.dataset_download(\"rdickenson/cooktoptemp\")\n",
    "\n",
    "print(\"Path to dataset files:\", path)"
   ]
  },
  {
   "cell_type": "markdown",
   "metadata": {},
   "source": [
    "A csv files can be read using the [read_csv](https://pandas.pydata.org/docs/reference/api/pandas.read_csv.html) of pandas. The return of read_cvs is a [dataframe](https://pandas.pydata.org/docs/reference/frame.html), a class of two-dimensional data with many methods. A data column containing date and time can be set up by [to_datetime](https://pandas.pydata.org/docs/reference/api/pandas.to_datetime.html) and used as index to the other columns' data by [set_index](https://pandas.pydata.org/docs/reference/api/pandas.DataFrame.set_index.html).\n",
    "\n",
    "We read the first dataset that contains the temperature in degree above the stove."
   ]
  },
  {
   "cell_type": "code",
   "execution_count": null,
   "metadata": {},
   "outputs": [],
   "source": [
    "import pandas as pandas\n",
    "\n",
    "# read dataset\n",
    "stove_data = pandas.read_csv(path+'/stove_temp_2018-02-16--2018-03-06.csv', sep=',' )\n",
    "# the dataset has a column 'datetime' that is in a certain format. \n",
    "# the next line set this column to be used as date and time\n",
    "stove_data['datetime'] = pandas.to_datetime(stove_data['datetime'], format='ISO8601')\n",
    "# and finally, we use the column as index\n",
    "stove_data.set_index('datetime', inplace = True)\n",
    "\n",
    "# a look at the data\n",
    "stove_data\n"
   ]
  },
  {
   "cell_type": "markdown",
   "metadata": {},
   "source": [
    "Now load a second data set that contains the temperature of the corner of the kitchen. "
   ]
  },
  {
   "cell_type": "code",
   "execution_count": null,
   "metadata": {},
   "outputs": [],
   "source": [
    "# read dataset\n",
    "kitchen_data = pandas.read_csv(path+'/temp_humidity_control_2018-02-16--2018-03-06.csv', \n",
    "                                sep=',')\n",
    "# the dataset has a column 'datetime' that is in a certain format. \n",
    "# the next line set this column to be used as date and time\n",
    "kitchen_data['datetime'] = pandas.to_datetime(kitchen_data['datetime'])\n",
    "kitchen_data.set_index('datetime', inplace = True)\n",
    "\n",
    "kitchen_data\n"
   ]
  },
  {
   "cell_type": "markdown",
   "metadata": {},
   "source": [
    "We do not need the columns 'device_id' and 'date_time_stamp'. Thus, we [drop](https://pandas.pydata.org/docs/reference/api/pandas.DataFrame.drop.html) these columns in both data sets. Further, we [sort](https://pandas.pydata.org/docs/reference/api/pandas.DataFrame.sort_index.html) both dataframes so that they are both in the same order regarding the time."
   ]
  },
  {
   "cell_type": "code",
   "execution_count": null,
   "metadata": {},
   "outputs": [],
   "source": [
    "stove_data = stove_data.drop(columns=['datetime_stamp', 'device_id'])\n",
    "stove_data.sort_index(inplace = True)\n",
    "kitchen_data = kitchen_data.drop(columns=['datetime_stamp', 'device_id'])\n",
    "kitchen_data.sort_index(inplace = True)\n",
    "\n",
    "stove_data"
   ]
  },
  {
   "cell_type": "markdown",
   "metadata": {},
   "source": [
    "Now we have all data set up and do a first visualization so that we can see how the data looks like. To this end, we use [plotly.express](https://plotly.com/python/plotly-express/). It offers a simple way to draw a [line plot](https://plotly.com/python/line-charts/) specifying data for the x and y dimension. Here, x i the index (time and date) and y is the column 'degC' of the data frames. The plots is interactive (zoom and pan)."
   ]
  },
  {
   "cell_type": "code",
   "execution_count": null,
   "metadata": {},
   "outputs": [],
   "source": [
    "import plotly.express as px\n",
    "\n",
    "fig_k = px.line(kitchen_data, x=kitchen_data.index, y=kitchen_data['degC'], \n",
    "                title='Interactive Plot with Zoom and Pan: kitchen')\n",
    "fig_s = px.line(stove_data, x=stove_data.index, y=stove_data['degC'], \n",
    "                title='Interactive Plot with Zoom and Pan: stove')\n",
    "\n",
    "fig_k.show()\n",
    "fig_s.show()\n"
   ]
  },
  {
   "cell_type": "markdown",
   "metadata": {},
   "source": [
    "As you can see in the plots, the files contain a different number of data values. If you read the description of the data, it says: <em> Measurements were recorded only when the temperature changed by 1 degree C or more and at a minimum of every 15 minutes.</em>. This means that the time between two values in the data could be hours when there was no change. We would like to have a time intervall of 15 minutes. Therefore, we have to fill samples into the dataset so that we get a proper visualization.\n",
    "\n",
    "The method [resample](https://pandas.pydata.org/docs/reference/api/pandas.DataFrame.resample.html) can do this. We create new dataframes with the sample rate of 15 minutes. "
   ]
  },
  {
   "cell_type": "code",
   "execution_count": null,
   "metadata": {},
   "outputs": [],
   "source": [
    "kitchen_15m = kitchen_data.resample('15min').ffill()\n",
    "stove_15m = stove_data.resample('15min').ffill()\n",
    "\n",
    "stove_15m"
   ]
  },
  {
   "cell_type": "markdown",
   "metadata": {},
   "source": [
    "Now we plot the original data and the sample data of the kitchen in one plat. Plotly provides the [graph objects](https://plotly.com/python/graph-objects/) classes that can do this."
   ]
  },
  {
   "cell_type": "code",
   "execution_count": null,
   "metadata": {},
   "outputs": [],
   "source": [
    "import plotly.graph_objects as pgo\n",
    "# Create a figure\n",
    "fig = pgo.Figure()\n",
    "\n",
    "# Add traces\n",
    "fig.add_trace(pgo.Scatter(x=kitchen_data.index, y=kitchen_data['degC'], mode='lines+markers', name='orig. kitchen'))\n",
    "fig.add_trace(pgo.Scatter(x=kitchen_15m.index, y=kitchen_15m['degC'], mode='lines+markers', name='res. kitchen'))\n",
    "\n",
    "# Update layout\n",
    "fig.update_layout(title='Temperature',\n",
    "                  xaxis_title='time',\n",
    "                  yaxis_title='deg C')\n",
    "\n",
    "fig.show()"
   ]
  },
  {
   "cell_type": "markdown",
   "metadata": {},
   "source": [
    "Next, we take a look of the stove temperature and the kitchen temperature."
   ]
  },
  {
   "cell_type": "code",
   "execution_count": null,
   "metadata": {},
   "outputs": [],
   "source": [
    "import plotly.graph_objects as pgo\n",
    "import datetime\n",
    "\n",
    "# Create a figure\n",
    "fig = pgo.Figure()\n",
    "\n",
    "# Add traces\n",
    "fig.add_trace(pgo.Scatter(x=kitchen_15m.index, y=kitchen_15m['degC'], mode='lines+markers', name='res. kitchen'))\n",
    "fig.add_trace(pgo.Scatter(x=stove_15m.index, y=stove_15m['degC'], mode='lines+markers', name='res. stove'))\n",
    "\n",
    "# Update layout\n",
    "fig.update_layout(title='Temperature',\n",
    "                  xaxis_title='time',\n",
    "                  yaxis_title='deg C')\n",
    "\n",
    "# Zoom x axis\n",
    "#fig.update_layout(xaxis_range=[datetime.datetime(2018, 2, 18), datetime.datetime(2018, 2, 20)])\n",
    "\n",
    "fig.show()"
   ]
  },
  {
   "cell_type": "markdown",
   "metadata": {},
   "source": [
    "It is mentioned in the data description that <em>First use of the cooktop is typically to prepare coffee between 05:30 and 07:00; any absence of this event is likely an indicator of trouble.</em>. Now investigate the data and think how you could determine whether there is an absence on a day or not?\n",
    "\n",
    "It is easy to get some statistics of the data using the [describe method](https://pandas.pydata.org/docs/reference/api/pandas.DataFrame.describe.html)."
   ]
  },
  {
   "cell_type": "code",
   "execution_count": null,
   "metadata": {},
   "outputs": [],
   "source": [
    "print(stove_15m.describe())\n",
    "print(kitchen_15m.describe())"
   ]
  },
  {
   "cell_type": "markdown",
   "metadata": {},
   "source": [
    "One insight of the data is that the temperature near the stove is dependent on the temperature in the kitchen. When the room temperature is colder, the temperature near the stove is also colder even if it is used. \n",
    "\n",
    "Therefore, we investigate the difference between both values. A dataframe of difference between the columns' data is created by subtraction of the dataframes. There are a couple of measurements that do not have corresponding values. These will have values NaN. They are removed with [dropna](https://pandas.pydata.org/docs/reference/api/pandas.DataFrame.dropna.html).\n",
    "\n",
    "We plot the data and see that there is no 'drift' at the beginning of March now. "
   ]
  },
  {
   "cell_type": "code",
   "execution_count": null,
   "metadata": {},
   "outputs": [],
   "source": [
    "diff_temp = stove_15m-kitchen_15m\n",
    "diff_temp = diff_temp.dropna()\n",
    "\n",
    "fig_d = px.line(diff_temp, x=diff_temp.index, y=diff_temp['degC'], title='Interactive Plot with Zoom and Pan: diff', markers=True)\n",
    "\n",
    "fig_d.show()\n",
    "\n",
    "print(diff_temp.describe())\n"
   ]
  },
  {
   "cell_type": "markdown",
   "metadata": {},
   "source": [
    "Finally, we would like to see if there is a peak every day between 05:30 and 07:00. Therefore, we compare the mean of the temperature in the night until the morning (03:30 to 05:30) with the mean of the temperature between 05:30 and 07:00.  "
   ]
  },
  {
   "cell_type": "code",
   "execution_count": null,
   "metadata": {},
   "outputs": [],
   "source": [
    "# Function to check for increased temperature between 5:30 and 07:00 - AI support used :-)\n",
    "def check_temperature_morning(data):\n",
    "    # Resample data to daily frequency\n",
    "    daily_data = data.resample('D')\n",
    "    \n",
    "    # Initialize a list to store results\n",
    "    results = []\n",
    "    \n",
    "    # Iterate over each day\n",
    "    for day, group in daily_data:\n",
    "        # Extract temperature values 2h before, in the range \n",
    "        temp_out_range = group.between_time('03:30', '05:30')['degC']\n",
    "        temp_in_range  = group.between_time('05:30', '07:00')['degC']\n",
    "        \n",
    "        # Check if there is an increase in temperature between before 0530 and 0530 to 0700 clock\n",
    "        if not temp_in_range.empty and not temp_out_range.empty:\n",
    "            mean_diff = temp_in_range.mean() - temp_out_range.mean() \n",
    "            if mean_diff > 0:\n",
    "                results.append((day, True, mean_diff))\n",
    "            else:\n",
    "                results.append((day, False, mean_diff))\n",
    "        else:\n",
    "            results.append((day, False, -100))\n",
    "    \n",
    "    return results\n",
    "\n",
    "# Example usage with your data\n",
    "# Assuming 'temperature_data' is your DataFrame with a datetime index and a 'temperature' column\n",
    "results = check_temperature_morning(diff_temp)\n",
    "\n",
    "# Print the results\n",
    "for day, increased, value in results:\n",
    "    print(f\"Date: {day.date()}, check_temperature_morning: {increased}, difference: {value}\")"
   ]
  }
 ],
 "metadata": {
  "kernelspec": {
   "display_name": "Python 3",
   "language": "python",
   "name": "python3"
  },
  "language_info": {
   "codemirror_mode": {
    "name": "ipython",
    "version": 3
   },
   "file_extension": ".py",
   "mimetype": "text/x-python",
   "name": "python",
   "nbconvert_exporter": "python",
   "pygments_lexer": "ipython3",
   "version": "3.9.6"
  }
 },
 "nbformat": 4,
 "nbformat_minor": 2
}
